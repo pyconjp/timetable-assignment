{
 "cells": [
  {
   "cell_type": "code",
   "execution_count": 1,
   "metadata": {},
   "outputs": [],
   "source": [
    "import numpy as np\n",
    "import pandas as pd"
   ]
  },
  {
   "cell_type": "code",
   "execution_count": 5,
   "metadata": {},
   "outputs": [],
   "source": [
    "%load_ext autoreload\n",
    "%autoreload 2\n",
    "%matplotlib inline\n",
    "\n",
    "from matplotlib import pyplot as plt\n",
    "import seaborn as sns\n",
    "plt.style.use(\"bmh\")"
   ]
  },
  {
   "cell_type": "code",
   "execution_count": 6,
   "metadata": {},
   "outputs": [],
   "source": [
    "import matplotlib\n",
    "matplotlib.rcParams[\"figure.figsize\"] = (16, 4)"
   ]
  },
  {
   "cell_type": "markdown",
   "metadata": {},
   "source": [
    "# マスター"
   ]
  },
  {
   "cell_type": "code",
   "execution_count": 2,
   "metadata": {},
   "outputs": [],
   "source": [
    "format_dic = {\n",
    "    \"Talk (15 minutes)\": 15,\n",
    "    \"Talk (30 minutes)\": 30,\n",
    "    \"Talk (45 minutes)\": 45\n",
    "}\n",
    "lang_dic = {\n",
    "    \"日\": \"ja\", \"英\": \"en\"\n",
    "}\n",
    "cat_dic = {\n",
    "    \"case_study\": \"Project case studies\",\n",
    "    \"web_pro\": \"Web programming(including web frameworks) \",\n",
    "    \"library\": \"Python libraries\",\n",
    "    \"practice\": \"Best practices\",\n",
    "    \"hardware\": \"extending and embedding python in hardware\",\n",
    "    \"education\": \"Python in education(including science and maths)\",\n",
    "    \"ml_ds\": \"Machine learning and data science\",\n",
    "    \"gui\": \"GUI and games\",\n",
    "    \"package\": \"Packaging\",\n",
    "    \"fintech\": \"Fintech\",\n",
    "    \"sys_ad\": \"System administration\",\n",
    "    \"tools\": \"Programming tools\",\n",
    "    \"business\": \"Business efficiency solution\",\n",
    "    \"etc\": \"Anything else basically which doesn’t really fall into the types of topics above\"\n",
    "}"
   ]
  },
  {
   "cell_type": "markdown",
   "metadata": {},
   "source": [
    "# トークリスト"
   ]
  },
  {
   "cell_type": "code",
   "execution_count": 3,
   "metadata": {},
   "outputs": [
    {
     "data": {
      "text/html": [
       "<div>\n",
       "<style scoped>\n",
       "    .dataframe tbody tr th:only-of-type {\n",
       "        vertical-align: middle;\n",
       "    }\n",
       "\n",
       "    .dataframe tbody tr th {\n",
       "        vertical-align: top;\n",
       "    }\n",
       "\n",
       "    .dataframe thead th {\n",
       "        text-align: right;\n",
       "    }\n",
       "</style>\n",
       "<table border=\"1\" class=\"dataframe\">\n",
       "  <thead>\n",
       "    <tr style=\"text-align: right;\">\n",
       "      <th></th>\n",
       "      <th>id</th>\n",
       "      <th>name</th>\n",
       "      <th>format</th>\n",
       "      <th>lang</th>\n",
       "      <th>category</th>\n",
       "      <th>title</th>\n",
       "      <th>request</th>\n",
       "    </tr>\n",
       "  </thead>\n",
       "  <tbody>\n",
       "    <tr>\n",
       "      <th>0</th>\n",
       "      <td>1</td>\n",
       "      <td>Kazuki Higashiguchi</td>\n",
       "      <td>15</td>\n",
       "      <td>ja</td>\n",
       "      <td>case_study</td>\n",
       "      <td>Pythonを使ったAPIサーバー開発を始める際に整備したCIとテスト機構</td>\n",
       "      <td>NaN</td>\n",
       "    </tr>\n",
       "    <tr>\n",
       "      <th>1</th>\n",
       "      <td>2</td>\n",
       "      <td>Yusuke Miyazaki</td>\n",
       "      <td>15</td>\n",
       "      <td>ja</td>\n",
       "      <td>web_pro</td>\n",
       "      <td>Python ウェブアプリケーションのためのプロファイラの実装</td>\n",
       "      <td>NaN</td>\n",
       "    </tr>\n",
       "    <tr>\n",
       "      <th>2</th>\n",
       "      <td>3</td>\n",
       "      <td>Marc-Andre Lemburg</td>\n",
       "      <td>30</td>\n",
       "      <td>en</td>\n",
       "      <td>library</td>\n",
       "      <td>PyRun - Shipping the Python 3.7 runtime in jus...</td>\n",
       "      <td>NaN</td>\n",
       "    </tr>\n",
       "    <tr>\n",
       "      <th>3</th>\n",
       "      <td>4</td>\n",
       "      <td>武山 文信</td>\n",
       "      <td>45</td>\n",
       "      <td>ja</td>\n",
       "      <td>practice</td>\n",
       "      <td>Excel と Python による社会インフラシステムの設定ファイルの自動生成</td>\n",
       "      <td>NaN</td>\n",
       "    </tr>\n",
       "    <tr>\n",
       "      <th>4</th>\n",
       "      <td>5</td>\n",
       "      <td>John Belmonte</td>\n",
       "      <td>45</td>\n",
       "      <td>en</td>\n",
       "      <td>hardware</td>\n",
       "      <td>Inside a companion robot: Productive concurren...</td>\n",
       "      <td>NaN</td>\n",
       "    </tr>\n",
       "  </tbody>\n",
       "</table>\n",
       "</div>"
      ],
      "text/plain": [
       "   id                 name  format lang    category  \\\n",
       "0   1  Kazuki Higashiguchi      15   ja  case_study   \n",
       "1   2      Yusuke Miyazaki      15   ja     web_pro   \n",
       "2   3   Marc-Andre Lemburg      30   en     library   \n",
       "3   4                武山 文信      45   ja    practice   \n",
       "4   5        John Belmonte      45   en    hardware   \n",
       "\n",
       "                                               title  request  \n",
       "0              Pythonを使ったAPIサーバー開発を始める際に整備したCIとテスト機構      NaN  \n",
       "1                    Python ウェブアプリケーションのためのプロファイラの実装      NaN  \n",
       "2  PyRun - Shipping the Python 3.7 runtime in jus...      NaN  \n",
       "3           Excel と Python による社会インフラシステムの設定ファイルの自動生成      NaN  \n",
       "4  Inside a companion robot: Productive concurren...      NaN  "
      ]
     },
     "execution_count": 3,
     "metadata": {},
     "output_type": "execute_result"
    }
   ],
   "source": [
    "talks = pd.read_csv(\"talks.csv\")\n",
    "talks = talks.reset_index().rename(columns={\"index\": \"id\"})\n",
    "talks['id'] = talks['id'] + 1\n",
    "talks['format'] = talks['format'].map(format_dic)\n",
    "talks['lang'] = talks['lang'].map(lang_dic)\n",
    "talks['category'] = talks['category'].map({v: k for k, v in cat_dic.items()})\n",
    "talks.head()"
   ]
  },
  {
   "cell_type": "code",
   "execution_count": 49,
   "metadata": {
    "scrolled": true
   },
   "outputs": [
    {
     "data": {
      "text/plain": [
       "(47, 7)"
      ]
     },
     "execution_count": 49,
     "metadata": {},
     "output_type": "execute_result"
    }
   ],
   "source": [
    "talks.shape"
   ]
  },
  {
   "cell_type": "code",
   "execution_count": 11,
   "metadata": {},
   "outputs": [],
   "source": [
    "talks45 = talks.query(\"format == 45\")\n",
    "talks30 = talks.query(\"format == 30\")\n",
    "talks15 = talks.query(\"format == 15\")"
   ]
  },
  {
   "cell_type": "markdown",
   "metadata": {},
   "source": [
    "# 全体"
   ]
  },
  {
   "cell_type": "code",
   "execution_count": 12,
   "metadata": {},
   "outputs": [],
   "source": [
    "talk_dic = {\n",
    "    \"all\": talks, 45: talks45, 30: talks30, 15: talks15\n",
    "}"
   ]
  },
  {
   "cell_type": "code",
   "execution_count": 26,
   "metadata": {},
   "outputs": [],
   "source": [
    "cat_vcs = []\n",
    "for name, df in talk_dic.items():\n",
    "    vc = df['category'].value_counts()\n",
    "    vc.name = name\n",
    "    cat_vcs.append(vc)"
   ]
  },
  {
   "cell_type": "code",
   "execution_count": 27,
   "metadata": {},
   "outputs": [
    {
     "data": {
      "text/html": [
       "<div>\n",
       "<style scoped>\n",
       "    .dataframe tbody tr th:only-of-type {\n",
       "        vertical-align: middle;\n",
       "    }\n",
       "\n",
       "    .dataframe tbody tr th {\n",
       "        vertical-align: top;\n",
       "    }\n",
       "\n",
       "    .dataframe thead th {\n",
       "        text-align: right;\n",
       "    }\n",
       "</style>\n",
       "<table border=\"1\" class=\"dataframe\">\n",
       "  <thead>\n",
       "    <tr style=\"text-align: right;\">\n",
       "      <th></th>\n",
       "      <th>all</th>\n",
       "      <th>45</th>\n",
       "      <th>30</th>\n",
       "      <th>15</th>\n",
       "    </tr>\n",
       "  </thead>\n",
       "  <tbody>\n",
       "    <tr>\n",
       "      <th>ml_ds</th>\n",
       "      <td>7</td>\n",
       "      <td>1</td>\n",
       "      <td>2</td>\n",
       "      <td>4</td>\n",
       "    </tr>\n",
       "    <tr>\n",
       "      <th>case_study</th>\n",
       "      <td>6</td>\n",
       "      <td>1</td>\n",
       "      <td>3</td>\n",
       "      <td>2</td>\n",
       "    </tr>\n",
       "    <tr>\n",
       "      <th>library</th>\n",
       "      <td>6</td>\n",
       "      <td>3</td>\n",
       "      <td>3</td>\n",
       "      <td>0</td>\n",
       "    </tr>\n",
       "    <tr>\n",
       "      <th>practice</th>\n",
       "      <td>6</td>\n",
       "      <td>3</td>\n",
       "      <td>1</td>\n",
       "      <td>2</td>\n",
       "    </tr>\n",
       "    <tr>\n",
       "      <th>web_pro</th>\n",
       "      <td>6</td>\n",
       "      <td>2</td>\n",
       "      <td>2</td>\n",
       "      <td>2</td>\n",
       "    </tr>\n",
       "    <tr>\n",
       "      <th>gui</th>\n",
       "      <td>3</td>\n",
       "      <td>0</td>\n",
       "      <td>2</td>\n",
       "      <td>1</td>\n",
       "    </tr>\n",
       "    <tr>\n",
       "      <th>tools</th>\n",
       "      <td>3</td>\n",
       "      <td>0</td>\n",
       "      <td>1</td>\n",
       "      <td>2</td>\n",
       "    </tr>\n",
       "    <tr>\n",
       "      <th>education</th>\n",
       "      <td>2</td>\n",
       "      <td>1</td>\n",
       "      <td>0</td>\n",
       "      <td>1</td>\n",
       "    </tr>\n",
       "    <tr>\n",
       "      <th>etc</th>\n",
       "      <td>2</td>\n",
       "      <td>0</td>\n",
       "      <td>1</td>\n",
       "      <td>1</td>\n",
       "    </tr>\n",
       "    <tr>\n",
       "      <th>hardware</th>\n",
       "      <td>2</td>\n",
       "      <td>2</td>\n",
       "      <td>0</td>\n",
       "      <td>0</td>\n",
       "    </tr>\n",
       "    <tr>\n",
       "      <th>business</th>\n",
       "      <td>1</td>\n",
       "      <td>0</td>\n",
       "      <td>0</td>\n",
       "      <td>1</td>\n",
       "    </tr>\n",
       "    <tr>\n",
       "      <th>fintech</th>\n",
       "      <td>1</td>\n",
       "      <td>0</td>\n",
       "      <td>0</td>\n",
       "      <td>1</td>\n",
       "    </tr>\n",
       "    <tr>\n",
       "      <th>package</th>\n",
       "      <td>1</td>\n",
       "      <td>1</td>\n",
       "      <td>0</td>\n",
       "      <td>0</td>\n",
       "    </tr>\n",
       "    <tr>\n",
       "      <th>sys_ad</th>\n",
       "      <td>1</td>\n",
       "      <td>0</td>\n",
       "      <td>0</td>\n",
       "      <td>1</td>\n",
       "    </tr>\n",
       "  </tbody>\n",
       "</table>\n",
       "</div>"
      ],
      "text/plain": [
       "            all  45  30  15\n",
       "ml_ds         7   1   2   4\n",
       "case_study    6   1   3   2\n",
       "library       6   3   3   0\n",
       "practice      6   3   1   2\n",
       "web_pro       6   2   2   2\n",
       "gui           3   0   2   1\n",
       "tools         3   0   1   2\n",
       "education     2   1   0   1\n",
       "etc           2   0   1   1\n",
       "hardware      2   2   0   0\n",
       "business      1   0   0   1\n",
       "fintech       1   0   0   1\n",
       "package       1   1   0   0\n",
       "sys_ad        1   0   0   1"
      ]
     },
     "execution_count": 27,
     "metadata": {},
     "output_type": "execute_result"
    }
   ],
   "source": [
    "pd.concat(cat_vcs, axis=1, sort=True).fillna(0).astype(int).sort_values('all', ascending=False)"
   ]
  },
  {
   "cell_type": "code",
   "execution_count": 28,
   "metadata": {},
   "outputs": [
    {
     "data": {
      "text/html": [
       "<div>\n",
       "<style scoped>\n",
       "    .dataframe tbody tr th:only-of-type {\n",
       "        vertical-align: middle;\n",
       "    }\n",
       "\n",
       "    .dataframe tbody tr th {\n",
       "        vertical-align: top;\n",
       "    }\n",
       "\n",
       "    .dataframe thead th {\n",
       "        text-align: right;\n",
       "    }\n",
       "</style>\n",
       "<table border=\"1\" class=\"dataframe\">\n",
       "  <thead>\n",
       "    <tr style=\"text-align: right;\">\n",
       "      <th></th>\n",
       "      <th>all</th>\n",
       "      <th>45</th>\n",
       "      <th>30</th>\n",
       "      <th>15</th>\n",
       "    </tr>\n",
       "  </thead>\n",
       "  <tbody>\n",
       "    <tr>\n",
       "      <th>ja</th>\n",
       "      <td>33</td>\n",
       "      <td>10</td>\n",
       "      <td>10</td>\n",
       "      <td>13</td>\n",
       "    </tr>\n",
       "    <tr>\n",
       "      <th>en</th>\n",
       "      <td>14</td>\n",
       "      <td>4</td>\n",
       "      <td>5</td>\n",
       "      <td>5</td>\n",
       "    </tr>\n",
       "  </tbody>\n",
       "</table>\n",
       "</div>"
      ],
      "text/plain": [
       "    all  45  30  15\n",
       "ja   33  10  10  13\n",
       "en   14   4   5   5"
      ]
     },
     "execution_count": 28,
     "metadata": {},
     "output_type": "execute_result"
    }
   ],
   "source": [
    "lang_vcs = []\n",
    "for name, df in talk_dic.items():\n",
    "    vc = df['lang'].value_counts()\n",
    "    vc.name = name\n",
    "    lang_vcs.append(vc)\n",
    "pd.concat(lang_vcs, axis=1, sort=True).fillna(0).astype(int).sort_values('all', ascending=False)"
   ]
  },
  {
   "cell_type": "code",
   "execution_count": null,
   "metadata": {},
   "outputs": [],
   "source": []
  },
  {
   "cell_type": "code",
   "execution_count": null,
   "metadata": {},
   "outputs": [],
   "source": []
  }
 ],
 "metadata": {
  "kernelspec": {
   "display_name": "Python 3",
   "language": "python",
   "name": "python3"
  },
  "language_info": {
   "codemirror_mode": {
    "name": "ipython",
    "version": 3
   },
   "file_extension": ".py",
   "mimetype": "text/x-python",
   "name": "python",
   "nbconvert_exporter": "python",
   "pygments_lexer": "ipython3",
   "version": "3.6.5"
  }
 },
 "nbformat": 4,
 "nbformat_minor": 2
}
